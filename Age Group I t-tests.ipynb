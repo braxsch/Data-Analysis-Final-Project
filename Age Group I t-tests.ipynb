{
 "cells": [
  {
   "cell_type": "code",
   "execution_count": 52,
   "metadata": {},
   "outputs": [],
   "source": [
    "import plotly.plotly as py\n",
    "import plotly.graph_objs as go\n",
    "from plotly.tools import FigureFactory as FF\n",
    "import numpy as np\n",
    "import pandas as pd\n",
    "import scipy\n",
    "from scipy import stats\n",
    "\n",
    "## alpha = 0.01\n",
    "## if resulting p value is greater than 0.01, the difference between EGFR expression in LTS and STS is insignificant."
   ]
  },
  {
   "cell_type": "code",
   "execution_count": 53,
   "metadata": {},
   "outputs": [
    {
     "data": {
      "text/plain": [
       "Ttest_indResult(statistic=0.68485226746037897, pvalue=0.50216143617321596)"
      ]
     },
     "execution_count": 53,
     "metadata": {},
     "output_type": "execute_result"
    }
   ],
   "source": [
    "long_term_survivor_EGFR = [3.2,-10.3,6.8,15.2,0.4,3.7,-5.9,-4.3,-2.8,9.6,0.6]\n",
    "short_term_survivor_EGFR = [0.5,-8.8,-3.2,9.4,-1,1.5,-15.4,1.8,7.7]\n",
    "stats.ttest_ind(long_term_survivor_EGFR,short_term_survivor_EGFR)"
   ]
  },
  {
   "cell_type": "code",
   "execution_count": 54,
   "metadata": {},
   "outputs": [
    {
     "data": {
      "text/plain": [
       "Ttest_indResult(statistic=0.92258436644705599, pvalue=0.3684257987165761)"
      ]
     },
     "execution_count": 54,
     "metadata": {},
     "output_type": "execute_result"
    }
   ],
   "source": [
    "long_term_survivor_PDGFRA = [-5.9,7.1,-3.6,3.5,9.2,-5.3,2.3,6.3,10.9,9.5,-5.8]\n",
    "short_term_survivor_PDGFRA = [10.4,-18,-14.9,5.8,10.9,-9,0.9,-0.6,5.3]\n",
    "stats.ttest_ind(long_term_survivor_PDGFRA,short_term_survivor_PDGFRA)"
   ]
  },
  {
   "cell_type": "code",
   "execution_count": 55,
   "metadata": {},
   "outputs": [
    {
     "data": {
      "text/plain": [
       "Ttest_indResult(statistic=-0.26787808843079558, pvalue=0.79183873384109849)"
      ]
     },
     "execution_count": 55,
     "metadata": {},
     "output_type": "execute_result"
    }
   ],
   "source": [
    "long_term_survivor_MAPT = [5.8,-2,-1.1,4.4,-13.8,-15.3,-14,1.4,2.5,-5,-4.3]\n",
    "short_term_survivor_MAPT = [0.7,2,-0.8,4.9,-12.5,-12.5,7.2,-10.6,-4.1]\n",
    "stats.ttest_ind(long_term_survivor_MAPT,short_term_survivor_MAPT)"
   ]
  },
  {
   "cell_type": "code",
   "execution_count": 56,
   "metadata": {},
   "outputs": [
    {
     "data": {
      "text/plain": [
       "Ttest_indResult(statistic=-0.032475318364548589, pvalue=0.97445039849068515)"
      ]
     },
     "execution_count": 56,
     "metadata": {},
     "output_type": "execute_result"
    }
   ],
   "source": [
    "long_term_survivor_NF1 = [2.3,-17.5,4.2,-0.2,-6.5,6.4,-38,1.8,9.7,12.7,9.9]\n",
    "short_term_survivor_NF1 = [-2.6,4.5,-21.8,-3.8,6.9,3.6,-4,3.2,3.2]\n",
    "stats.ttest_ind(long_term_survivor_NF1,short_term_survivor_NF1)"
   ]
  },
  {
   "cell_type": "code",
   "execution_count": 57,
   "metadata": {},
   "outputs": [
    {
     "data": {
      "text/plain": [
       "Ttest_indResult(statistic=-0.090848963318609546, pvalue=0.92861596160725979)"
      ]
     },
     "execution_count": 57,
     "metadata": {},
     "output_type": "execute_result"
    }
   ],
   "source": [
    "long_term_survivor_DAP3 = [3.1,12.4,9.2,-7.3,3.6,14.3,2.8,-17.4,-6.4,-0.1,1.4]\n",
    "short_term_survivor_DAP3 = [3.1,3.9,14.9,-2.5,-2.8,1.8,-6.6,4.3,-0.4]\n",
    "stats.ttest_ind(long_term_survivor_DAP3,short_term_survivor_DAP3)"
   ]
  },
  {
   "cell_type": "code",
   "execution_count": 58,
   "metadata": {},
   "outputs": [
    {
     "data": {
      "text/plain": [
       "Ttest_indResult(statistic=-0.33783276838760595, pvalue=0.73939727107264197)"
      ]
     },
     "execution_count": 58,
     "metadata": {},
     "output_type": "execute_result"
    }
   ],
   "source": [
    "long_term_survivor_HLA = [15.1,-3.9,16,3.3,-2,-11.7,-10.8,8.1,7.6,-1.8,-9.4]\n",
    "short_term_survivor_HLA = [-1.3,7.8,-11,15.5,-6.1,4.5,8.9,-4.4,7.4]\n",
    "stats.ttest_ind(long_term_survivor_HLA,short_term_survivor_HLA)"
   ]
  },
  {
   "cell_type": "code",
   "execution_count": 59,
   "metadata": {},
   "outputs": [
    {
     "data": {
      "text/plain": [
       "Ttest_indResult(statistic=0.9078433172138588, pvalue=0.37595556867493229)"
      ]
     },
     "execution_count": 59,
     "metadata": {},
     "output_type": "execute_result"
    }
   ],
   "source": [
    "long_term_survivor_NET1 = [-0.8,-2,8.6,10.3,15.6,3.7,5.4,5.8,-19.8,-1.7,-3]\n",
    "short_term_survivor_NET1 = [-1,-0.1,2.7,-3.4,-8.6,2.9,4.8,-12.4,3.9]\n",
    "stats.ttest_ind(long_term_survivor_NET1,short_term_survivor_NET1)"
   ]
  },
  {
   "cell_type": "code",
   "execution_count": 60,
   "metadata": {},
   "outputs": [
    {
     "data": {
      "text/plain": [
       "Ttest_indResult(statistic=0.77183805850676013, pvalue=0.45022554871151754)"
      ]
     },
     "execution_count": 60,
     "metadata": {},
     "output_type": "execute_result"
    }
   ],
   "source": [
    "long_term_survivor_IL8 = [-5.2,3.4,-0.7,1.5,0,-6.2,0.2,7.4,4.3,-1.3,-5.1]\n",
    "short_term_survivor_IL8 = [-1.2,0.4,-6,-6.6,-1.6,-0.8,1.3,6.4,-6.6]\n",
    "stats.ttest_ind(long_term_survivor_IL8,short_term_survivor_IL8)"
   ]
  },
  {
   "cell_type": "code",
   "execution_count": 74,
   "metadata": {},
   "outputs": [
    {
     "data": {
      "text/plain": [
       "Ttest_indResult(statistic=-3.585073329833627, pvalue=0.0021163078273534158)"
      ]
     },
     "execution_count": 74,
     "metadata": {},
     "output_type": "execute_result"
    }
   ],
   "source": [
    "## SIGNIFICANT\n",
    "long_term_survivor_MARCH8 = [3.7,-3.5,-2.2,-11.1,-20.4,2.9,-11.3,-16.5,-4.5,1.6,-0.7]\n",
    "short_term_survivor_MARCH8 = [18.3,5,10,3.3,-7,9.9,3.2,5.1,21.2]\n",
    "stats.ttest_ind(long_term_survivor_MARCH8,short_term_survivor_MARCH8)"
   ]
  },
  {
   "cell_type": "code",
   "execution_count": 77,
   "metadata": {},
   "outputs": [
    {
     "data": {
      "text/plain": [
       "Ttest_indResult(statistic=-3.00426715914117, pvalue=0.0076144170746895211)"
      ]
     },
     "execution_count": 77,
     "metadata": {},
     "output_type": "execute_result"
    }
   ],
   "source": [
    "## SIGNIFICANT\n",
    "long_term_survivor_FBXO17 = [-3.2,5.6,-4.6,-23.4,-0.3,-5.6,-10.3,-4,-2.3,-1.1,7.6]\n",
    "short_term_survivor_FBXO17 = [12.9,5.6,3.6,15.5,2.6,5,0.8,6.9,-0.9]\n",
    "stats.ttest_ind(long_term_survivor_FBXO17,short_term_survivor_FBXO17)"
   ]
  },
  {
   "cell_type": "code",
   "execution_count": 79,
   "metadata": {},
   "outputs": [
    {
     "data": {
      "text/plain": [
       "Ttest_indResult(statistic=-3.906203706783705, pvalue=0.0010350089060037313)"
      ]
     },
     "execution_count": 79,
     "metadata": {},
     "output_type": "execute_result"
    }
   ],
   "source": [
    "## SIGNIFICANT\n",
    "long_term_survivor_TFRC = [3.3,-7.4,4.6,-4.2,-4.8,-8.4,1.5,-6.9,2.6,1.8,-7.6]\n",
    "short_term_survivor_TFRC = [21.3,2.8,10.8,0.9,10,12.1,1.5,9.1,2.7]\n",
    "stats.ttest_ind(long_term_survivor_TFRC,short_term_survivor_TFRC)"
   ]
  },
  {
   "cell_type": "code",
   "execution_count": 83,
   "metadata": {},
   "outputs": [
    {
     "data": {
      "text/plain": [
       "Ttest_indResult(statistic=3.2944535221977729, pvalue=0.0040303448803102613)"
      ]
     },
     "execution_count": 83,
     "metadata": {},
     "output_type": "execute_result"
    }
   ],
   "source": [
    "long_term_survivor_NSUN5 = [13.9,6.9,7,7.8,12.9,16.9,1.4,-6.9,9.8,6.1,12.2]\n",
    "short_term_survivor_NSUN5 = [11.1,-7.6,-32.1,-6.4,-7.8,-5.2,-2,3.2,-3.5]\n",
    "stats.ttest_ind(long_term_survivor_NSUN5,short_term_survivor_NSUN5)"
   ]
  },
  {
   "cell_type": "code",
   "execution_count": 96,
   "metadata": {},
   "outputs": [
    {
     "data": {
      "text/plain": [
       "Ttest_indResult(statistic=3.6406174978770109, pvalue=0.0018702890459884761)"
      ]
     },
     "execution_count": 96,
     "metadata": {},
     "output_type": "execute_result"
    }
   ],
   "source": [
    "## SIGNIFICANT\n",
    "long_term_survivor_MT1M = [-1.3,1.4,2.3,1.9,7.5,4.4,9.3,7.5,8.3,15.8,5.4]\n",
    "short_term_survivor_MT1M = [-19.3,-12.5,-12.8,-2.1,-9.5,5.6,7.4,-13.9,1.4]\n",
    "stats.ttest_ind(long_term_survivor_MT1M,short_term_survivor_MT1M)"
   ]
  },
  {
   "cell_type": "code",
   "execution_count": 66,
   "metadata": {},
   "outputs": [
    {
     "data": {
      "text/plain": [
       "Ttest_indResult(statistic=-0.1384677944621488, pvalue=0.89140806082161816)"
      ]
     },
     "execution_count": 66,
     "metadata": {},
     "output_type": "execute_result"
    }
   ],
   "source": [
    "long_term_survivor_KLF13 = [-14.4,-0.5,3.6,-4.5,-7.3,-12,-7.5,1.2,4.9,5,-9.5]\n",
    "short_term_survivor_KLF13 = [2,0.2,-10.9,-1.3,-6.4,-1,0.9,-7,-6.7]\n",
    "stats.ttest_ind(long_term_survivor_KLF13,short_term_survivor_KLF13)"
   ]
  },
  {
   "cell_type": "code",
   "execution_count": 98,
   "metadata": {},
   "outputs": [
    {
     "data": {
      "text/plain": [
       "Ttest_indResult(statistic=-3.2530877835279424, pvalue=0.0044152709012847948)"
      ]
     },
     "execution_count": 98,
     "metadata": {},
     "output_type": "execute_result"
    }
   ],
   "source": [
    "## SIGNIFICANT\n",
    "long_term_survivor_RPRM = [2.2,-3.6,-15.3,-4.3,-7.4,-1.1,-10.2,7.6,0.7,-13,0.9]\n",
    "short_term_survivor_RPRM = [-3.1,2.3,6.1,0.2,3.5,23.2,19.6,17.8,2.9]\n",
    "stats.ttest_ind(long_term_survivor_RPRM,short_term_survivor_RPRM)"
   ]
  },
  {
   "cell_type": "code",
   "execution_count": 68,
   "metadata": {},
   "outputs": [
    {
     "data": {
      "text/plain": [
       "Ttest_indResult(statistic=0.16708252204240706, pvalue=0.8691678279434768)"
      ]
     },
     "execution_count": 68,
     "metadata": {},
     "output_type": "execute_result"
    }
   ],
   "source": [
    "long_term_survivor_REPS2 = [-2.4,-7.3,7.9,-8.1,-9.2,5.2,1.3,4.9,3.2,-5.1,5.1]\n",
    "short_term_survivor_REPS2 = [-6,0.7,-8.5,10.5,-5.5,1.5,-3,8,-5.7]\n",
    "stats.ttest_ind(long_term_survivor_REPS2,short_term_survivor_REPS2)"
   ]
  },
  {
   "cell_type": "code",
   "execution_count": 115,
   "metadata": {},
   "outputs": [
    {
     "data": {
      "text/plain": [
       "Ttest_indResult(statistic=2.9176820442128317, pvalue=0.0091875118460894682)"
      ]
     },
     "execution_count": 115,
     "metadata": {},
     "output_type": "execute_result"
    }
   ],
   "source": [
    "## SIGNIFICANT\n",
    "long_term_survivor_ACOX2 = [7.8,30.7,27.6,-1,8.1,7.8,4.4,11.5,7.7,-2.9,11.2]\n",
    "short_term_survivor_ACOX2 = [-1.1,0.2,-5.5,-0.9,7,-2.5,1,1.2,-2.3]\n",
    "stats.ttest_ind(long_term_survivor_ACOX2,short_term_survivor_ACOX2)"
   ]
  },
  {
   "cell_type": "code",
   "execution_count": 107,
   "metadata": {},
   "outputs": [
    {
     "data": {
      "text/plain": [
       "Ttest_indResult(statistic=-3.0748297335082717, pvalue=0.0065288287118250464)"
      ]
     },
     "execution_count": 107,
     "metadata": {},
     "output_type": "execute_result"
    }
   ],
   "source": [
    "## SIGNIFICANT\n",
    "long_term_survivor_HOMER1 = [-7.2,-16,-8.6,0,-12.2,-1.9,-8.4,-4.6,0,5.8,4.3]\n",
    "short_term_survivor_HOMER1 = [17.4,4.1,30,2.8,-0.5,-1.4,6.3,-1.4,9.6]\n",
    "stats.ttest_ind(long_term_survivor_HOMER1,short_term_survivor_HOMER1)"
   ]
  },
  {
   "cell_type": "code",
   "execution_count": 71,
   "metadata": {},
   "outputs": [
    {
     "data": {
      "text/plain": [
       "Ttest_indResult(statistic=-0.33884066016668546, pvalue=0.73865052994191527)"
      ]
     },
     "execution_count": 71,
     "metadata": {},
     "output_type": "execute_result"
    }
   ],
   "source": [
    "long_term_survivor_PDLIM3 = [-3.5,-6.9,-4.2,-2,19.3,10.9,-17.5,-6.4,1.4,-12.7,18.8]\n",
    "short_term_survivor_PDLIM3 = [-6.1,-5.1,13.1,8.3,-2,0.2,-3.9,20.5,-11.8]\n",
    "stats.ttest_ind(long_term_survivor_PDLIM3,short_term_survivor_PDLIM3)"
   ]
  },
  {
   "cell_type": "code",
   "execution_count": 72,
   "metadata": {},
   "outputs": [
    {
     "data": {
      "text/plain": [
       "Ttest_indResult(statistic=0.03954217832958231, pvalue=0.96889340833871396)"
      ]
     },
     "execution_count": 72,
     "metadata": {},
     "output_type": "execute_result"
    }
   ],
   "source": [
    "long_term_survivor_CD274 = [-1.9,15.6,8.9,-8.2,-10.7,1.1,8.5,-3.2,5.9,-4.5,-2.3]\n",
    "short_term_survivor_CD274 = [-11.4,-4.7,-8.7,-11.5,-6.3,23.8,5.1,21.5,-2]\n",
    "stats.ttest_ind(long_term_survivor_CD274,short_term_survivor_CD274)"
   ]
  }
 ],
 "metadata": {
  "kernelspec": {
   "display_name": "Python 3.6",
   "language": "python",
   "name": "python36"
  },
  "language_info": {
   "codemirror_mode": {
    "name": "ipython",
    "version": 3
   },
   "file_extension": ".py",
   "mimetype": "text/x-python",
   "name": "python",
   "nbconvert_exporter": "python",
   "pygments_lexer": "ipython3",
   "version": "3.6.3"
  }
 },
 "nbformat": 4,
 "nbformat_minor": 2
}
