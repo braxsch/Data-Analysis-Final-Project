{
 "cells": [
  {
   "cell_type": "code",
   "execution_count": 2,
   "metadata": {},
   "outputs": [],
   "source": [
    "import plotly.plotly as py\n",
    "import plotly.graph_objs as go\n",
    "from plotly.tools import FigureFactory as FF\n",
    "import numpy as np\n",
    "import pandas as pd\n",
    "import scipy\n",
    "from scipy import stats\n",
    "\n",
    "## alpha = 0.05 \n",
    "## if resulting p value is greater than 0.05, the difference between EGFR expression in LTS and STS is insignificant."
   ]
  },
  {
   "cell_type": "code",
   "execution_count": 3,
   "metadata": {},
   "outputs": [
    {
     "data": {
      "text/plain": [
       "Ttest_indResult(statistic=0.79535503860583168, pvalue=0.43360839934834539)"
      ]
     },
     "execution_count": 3,
     "metadata": {},
     "output_type": "execute_result"
    }
   ],
   "source": [
    "long_term_survivor_EGFR = [3.8,7.8,-8,5.6,-14.1,-6.9,-1.2,14.4,19.8,-0.9]\n",
    "short_term_survivor_EGFR = [3.5,-21.3,-19.7,-18.8,5.2,9.3,-12.4,20.1,-3.4,12.2,16,-4,-5.7,0,-0.8,-13.8,1,3.8]\n",
    "stats.ttest_ind(long_term_survivor_EGFR,short_term_survivor_EGFR)"
   ]
  },
  {
   "cell_type": "code",
   "execution_count": 4,
   "metadata": {},
   "outputs": [
    {
     "data": {
      "text/plain": [
       "Ttest_indResult(statistic=0.48492360401327567, pvalue=0.63179122278097444)"
      ]
     },
     "execution_count": 4,
     "metadata": {},
     "output_type": "execute_result"
    }
   ],
   "source": [
    "long_term_survivor_PDGFRA = [-15.2,8.1,3.1,7.4,24.8,9,-4,-7.2,-6.8,-12.6]\n",
    "short_term_survivor_PDGFRA = [11.1,-8.9,-11.3,-20.6,-16.5,3.3,-3.9,14.5,1.3,-6.2,-14.3,1.8,10.9,0,-5.8,10.6,8.2,-0.1]\n",
    "stats.ttest_ind(long_term_survivor_PDGFRA,short_term_survivor_PDGFRA)"
   ]
  },
  {
   "cell_type": "code",
   "execution_count": 5,
   "metadata": {},
   "outputs": [
    {
     "data": {
      "text/plain": [
       "Ttest_indResult(statistic=-0.37009846011487263, pvalue=0.71430693904254072)"
      ]
     },
     "execution_count": 5,
     "metadata": {},
     "output_type": "execute_result"
    }
   ],
   "source": [
    "long_term_survivor_MAPT = [9.6,1.8,0.6,-12.9,7.8,7.3,-16.6,9.4,8.5,-1.9]\n",
    "short_term_survivor_MAPT = [15.2,-4.8,6.9,4.9,-2.4,-11.3,-14.2,26.2,2.2,8,13.6,-7,4.2,0,-10,18.4,16.3,-12.7]\n",
    "stats.ttest_ind(long_term_survivor_MAPT,short_term_survivor_MAPT)"
   ]
  },
  {
   "cell_type": "code",
   "execution_count": 6,
   "metadata": {},
   "outputs": [
    {
     "data": {
      "text/plain": [
       "Ttest_indResult(statistic=0.23590060981513139, pvalue=0.81535819202212456)"
      ]
     },
     "execution_count": 6,
     "metadata": {},
     "output_type": "execute_result"
    }
   ],
   "source": [
    "long_term_survivor_NF1 = [7.8,5.5,-21.6,2.7,1.3,-2.4,10.4,5.1,-0.1,5.6]\n",
    "short_term_survivor_NF1 = [9.4,-7.1,-9,-21.6,7.7,4.2,-6.3,7.5,10.1,2.8,0.4,-0.9,2.6,0,2.5,-0.8,6.2,4.3]\n",
    "stats.ttest_ind(long_term_survivor_NF1,short_term_survivor_NF1)"
   ]
  },
  {
   "cell_type": "code",
   "execution_count": 51,
   "metadata": {},
   "outputs": [
    {
     "data": {
      "text/plain": [
       "Ttest_indResult(statistic=2.9889167764183253, pvalue=0.0060458637590055245)"
      ]
     },
     "execution_count": 51,
     "metadata": {},
     "output_type": "execute_result"
    }
   ],
   "source": [
    "## SIGNFICANT\n",
    "long_term_survivor_DAP3 = [10.5,4.3,18.3,15.2,-1.8,6.1,16.4,0.4,9.1,9.5]\n",
    "short_term_survivor_DAP3 = [2.5,4.1,0,-29,1.1,11.4,-17.9,4.6,11.6,-25.5,-0.6,1.1,-0.2,0,-9,-4.1,-0.7,1.3]\n",
    "stats.ttest_ind(long_term_survivor_DAP3,short_term_survivor_DAP3)"
   ]
  },
  {
   "cell_type": "code",
   "execution_count": 48,
   "metadata": {},
   "outputs": [
    {
     "data": {
      "text/plain": [
       "Ttest_indResult(statistic=3.4555574664146778, pvalue=0.0018986084088500671)"
      ]
     },
     "execution_count": 48,
     "metadata": {},
     "output_type": "execute_result"
    }
   ],
   "source": [
    "## SIGNFICANT\n",
    "long_term_survivor_HLA = [-2,9.2,6.3,6.3,9.2,27.8,17.5,-3.8,14.1,8.5]\n",
    "short_term_survivor_HLA = [-13.8,-1.2,-5.1,-2.3,-7.1,8.4,4.9,-11.2,-12,-7.4,-13.4,-5.9,16.3,0,4.7,8.9,-9.5,-1.5]\n",
    "stats.ttest_ind(long_term_survivor_HLA,short_term_survivor_HLA)"
   ]
  },
  {
   "cell_type": "code",
   "execution_count": 10,
   "metadata": {},
   "outputs": [
    {
     "data": {
      "text/plain": [
       "Ttest_indResult(statistic=-0.69723735849259749, pvalue=0.49184229242197863)"
      ]
     },
     "execution_count": 10,
     "metadata": {},
     "output_type": "execute_result"
    }
   ],
   "source": [
    "long_term_survivor_NET1 = [0.6,-13.9,23.7,-14,1.8,1.5,-10.4,9.4,-4.3,-18.3]\n",
    "short_term_survivor_NET1 = [-10.5,4.6,1.8,16,-6.7,-5,28.8,-6,-17.6,7.2,3.8,-2.4,-5.7,0,-2,11.5,-1.4,-3.4]\n",
    "stats.ttest_ind(long_term_survivor_NET1,short_term_survivor_NET1)"
   ]
  },
  {
   "cell_type": "code",
   "execution_count": 11,
   "metadata": {},
   "outputs": [
    {
     "data": {
      "text/plain": [
       "Ttest_indResult(statistic=-0.10597054380509897, pvalue=0.91641910659773074)"
      ]
     },
     "execution_count": 11,
     "metadata": {},
     "output_type": "execute_result"
    }
   ],
   "source": [
    "long_term_survivor_IL8 = [-5.1,-10,2.8,6,-2.3,-3.2,33.4,-7.4,-6.4,-5.3]\n",
    "short_term_survivor_IL8 = [-8.1,-4.4,1.6,3.4,-3.9,48.9,-1.5,-7.5,-7.1,2.6,-2.5,10.4,-2.7,0,0.1,-5.4,-4.4,-5.4]\n",
    "stats.ttest_ind(long_term_survivor_IL8,short_term_survivor_IL8)"
   ]
  },
  {
   "cell_type": "code",
   "execution_count": 19,
   "metadata": {},
   "outputs": [
    {
     "data": {
      "text/plain": [
       "Ttest_indResult(statistic=2.9057661582747421, pvalue=0.0073891223246890661)"
      ]
     },
     "execution_count": 19,
     "metadata": {},
     "output_type": "execute_result"
    }
   ],
   "source": [
    "## SIGNIFICANT\n",
    "long_term_survivor_MARCH8 = [-1,5.2,5.6,6.4,6.6,22,5.8,4.5,-2.3,6.9]\n",
    "short_term_survivor_MARCH8 = [-1.4,-1.4,8.5,-12.4,2.7,-11.4,-19.1,-16.7,7.9,-8.8,-8.5,-10.8,-9.5,0,9.4,4.9,9.7,-11.1]\n",
    "stats.ttest_ind(long_term_survivor_MARCH8,short_term_survivor_MARCH8)"
   ]
  },
  {
   "cell_type": "code",
   "execution_count": 11,
   "metadata": {},
   "outputs": [
    {
     "data": {
      "text/plain": [
       "Ttest_indResult(statistic=-3.2299604141100189, pvalue=0.0033445372407793052)"
      ]
     },
     "execution_count": 11,
     "metadata": {},
     "output_type": "execute_result"
    }
   ],
   "source": [
    "## SIGNIFICANT\n",
    "long_term_survivor_FBXO17 = [-2.1,15.7,-5.3,1.9,0,8.6,-12.1,-7.6,-4.7,-10.1]\n",
    "short_term_survivor_FBXO17 = [-2.9,5.7,9.3,14.8,4.1,7.4,19.7,9.3,27.9,5.8,17.8,1,2.4,0,13.9,15.4,-0.3,9.8]\n",
    "stats.ttest_ind(long_term_survivor_FBXO17,short_term_survivor_FBXO17)"
   ]
  },
  {
   "cell_type": "code",
   "execution_count": 31,
   "metadata": {},
   "outputs": [
    {
     "data": {
      "text/plain": [
       "Ttest_indResult(statistic=3.0582837653047217, pvalue=0.0051065471185740459)"
      ]
     },
     "execution_count": 31,
     "metadata": {},
     "output_type": "execute_result"
    }
   ],
   "source": [
    "## SIGNIFICANT\n",
    "long_term_survivor_TFRC = [5.2,13.5,21.6,15.1,0.9,10.7,18.8,7,-2.9,5.1]\n",
    "short_term_survivor_TFRC = [10.9,3.9,-6.2,-25.5,2.8,2.7,-9.5,17.5,11.3,-18.9,-7.2,-10.7,-2.6,0,-0.4,-2.7,-2.5,0.2]\n",
    "stats.ttest_ind(long_term_survivor_TFRC,short_term_survivor_TFRC)"
   ]
  },
  {
   "cell_type": "code",
   "execution_count": 52,
   "metadata": {},
   "outputs": [
    {
     "data": {
      "text/plain": [
       "Ttest_indResult(statistic=3.0295497468609103, pvalue=0.0054773675095689195)"
      ]
     },
     "execution_count": 52,
     "metadata": {},
     "output_type": "execute_result"
    }
   ],
   "source": [
    "## SIGNIFICANT\n",
    "long_term_survivor_NSUN5 = [4.2,7.6,19.3,14.3,2.4,0,10.1,8,14.8,0.2]\n",
    "short_term_survivor_NSUN5 = [11.7,13,8.1,0.9,-1,-2.7,-6.9,-10.6,-1,-15.4,6.6,4,-9.4,0,2.9,-3.6,-10.3,-0.3]\n",
    "stats.ttest_ind(long_term_survivor_NSUN5,short_term_survivor_NSUN5)"
   ]
  },
  {
   "cell_type": "code",
   "execution_count": 21,
   "metadata": {},
   "outputs": [
    {
     "data": {
      "text/plain": [
       "Ttest_indResult(statistic=2.8561581597822943, pvalue=0.0083206743579746414)"
      ]
     },
     "execution_count": 21,
     "metadata": {},
     "output_type": "execute_result"
    }
   ],
   "source": [
    "## SIGNIFICANT\n",
    "long_term_survivor_MT1M = [19.1,7.1,6.6,13.8,-3.9,4.5,2.7,14.9,1.9,16.1]\n",
    "short_term_survivor_MT1M = [-4.2,-3.9,-5.5,-9.4,-1,13.9,-8.9,5.4,-2.6,-17.1,-11.4,-13,0,0.9,19.8,-12.9,0.6,12.5]\n",
    "stats.ttest_ind(long_term_survivor_MT1M,short_term_survivor_MT1M)"
   ]
  },
  {
   "cell_type": "code",
   "execution_count": 19,
   "metadata": {},
   "outputs": [
    {
     "data": {
      "text/plain": [
       "Ttest_indResult(statistic=-0.96230001088823913, pvalue=0.34476394684224265)"
      ]
     },
     "execution_count": 19,
     "metadata": {},
     "output_type": "execute_result"
    }
   ],
   "source": [
    "long_term_survivor_KLF13 = [9.8,10,1.4,-6.6,-3.5,-14.6,1.1,2.4,1.4,-4]\n",
    "short_term_survivor_KLF13 = [-0.6,28.1,28.5,23.3,2.5,-16.4,2.1,7.2,-0.4,-8.1,21.8,-3.8,-4,0,2.2,1,-12.4,2.5]\n",
    "stats.ttest_ind(long_term_survivor_KLF13,short_term_survivor_KLF13)"
   ]
  },
  {
   "cell_type": "code",
   "execution_count": 40,
   "metadata": {},
   "outputs": [
    {
     "data": {
      "text/plain": [
       "Ttest_indResult(statistic=-3.0078170636838801, pvalue=0.0057747643795314635)"
      ]
     },
     "execution_count": 40,
     "metadata": {},
     "output_type": "execute_result"
    }
   ],
   "source": [
    "## SIGNIFICANT\n",
    "long_term_survivor_RPRM = [-3.5,-19.2,-6.2,-14.6,2.5,-0.5,11.5,-2.5,-11.6,-6.7]\n",
    "short_term_survivor_RPRM = [6.7,-2.9,5.4,-0.4,13,8.6,3.9,21.5,14.9,-0.9,-6.3,-2.2,-11.5,0,7,7.8,14.1,12.9]\n",
    "stats.ttest_ind(long_term_survivor_RPRM,short_term_survivor_RPRM)"
   ]
  },
  {
   "cell_type": "code",
   "execution_count": 21,
   "metadata": {},
   "outputs": [
    {
     "data": {
      "text/plain": [
       "Ttest_indResult(statistic=0.2004207163657292, pvalue=0.84271103795912172)"
      ]
     },
     "execution_count": 21,
     "metadata": {},
     "output_type": "execute_result"
    }
   ],
   "source": [
    "long_term_survivor_REPS2 = [-7.5,-9.7,-4.8,-6.1,39.4,-10.3,16.7,-5.4,-3.7,1.9]\n",
    "short_term_survivor_REPS2 = [-8.8,-3.5,-3.9,-1.5,28.3,-0.9,-3.8,-6.9,-5.9,-1.9,-5.6,-3.5,-8.7,0,13.2,0.4,18.5,-3.9]\n",
    "stats.ttest_ind(long_term_survivor_REPS2,short_term_survivor_REPS2)"
   ]
  },
  {
   "cell_type": "code",
   "execution_count": 42,
   "metadata": {},
   "outputs": [
    {
     "data": {
      "text/plain": [
       "Ttest_indResult(statistic=3.1005845210826806, pvalue=0.0046040200782876779)"
      ]
     },
     "execution_count": 42,
     "metadata": {},
     "output_type": "execute_result"
    }
   ],
   "source": [
    "## SIGNIFICANT\n",
    "long_term_survivor_ACOX2 = [11.3,-8.4,10.3,-6.5,9.5,27.8,7.7,6.8,-1.6,8.1]\n",
    "short_term_survivor_ACOX2 = [-9.5,-4,-9.1,-4.7,16.4,-6.2,2.4,-10.1,-5.2,-6.3,-7.2,-4.9,-0.1,0,4.9,-8.1,-2.4,-4.5]\n",
    "stats.ttest_ind(long_term_survivor_ACOX2,short_term_survivor_ACOX2)"
   ]
  },
  {
   "cell_type": "code",
   "execution_count": 44,
   "metadata": {},
   "outputs": [
    {
     "data": {
      "text/plain": [
       "Ttest_indResult(statistic=4.0441995363472207, pvalue=0.00041657312592664877)"
      ]
     },
     "execution_count": 44,
     "metadata": {},
     "output_type": "execute_result"
    }
   ],
   "source": [
    "## SIGNIFICANT\n",
    "long_term_survivor_HOMER1 = [6.5,10,17.4,6.8,17.6,11.6,-3,8.3,22.9,-0.9]\n",
    "short_term_survivor_HOMER1 = [0.1,-2.4,-4.3,-13.6,-7.7,0.7,-16.6,-0.9,9.5,-8.6,10.7,-8.2,5,0,-7.6,0.9,4.4,-5.1]\n",
    "stats.ttest_ind(long_term_survivor_HOMER1,short_term_survivor_HOMER1)"
   ]
  },
  {
   "cell_type": "code",
   "execution_count": 26,
   "metadata": {},
   "outputs": [
    {
     "data": {
      "text/plain": [
       "Ttest_indResult(statistic=-0.7921394177148029, pvalue=0.43544769600745525)"
      ]
     },
     "execution_count": 26,
     "metadata": {},
     "output_type": "execute_result"
    }
   ],
   "source": [
    "long_term_survivor_PDLIM3 = [-5.9,3.1,-11.1,-8.7,-3.7,-7,-6,-1.4,12.8,5.7]\n",
    "short_term_survivor_PDLIM3 = [1.7,16.8,16.9,3.3,3.9,-5.1,-2.2,10.1,6,-23.1,1.6,-4.6,14.4,0,-5.6,-10.2,-6,-5.9]\n",
    "stats.ttest_ind(long_term_survivor_PDLIM3,short_term_survivor_PDLIM3)"
   ]
  },
  {
   "cell_type": "code",
   "execution_count": 27,
   "metadata": {},
   "outputs": [
    {
     "data": {
      "text/plain": [
       "Ttest_indResult(statistic=0.054762673995996845, pvalue=0.95674618073386042)"
      ]
     },
     "execution_count": 27,
     "metadata": {},
     "output_type": "execute_result"
    }
   ],
   "source": [
    "long_term_survivor_CD274 = [-14.1,0.4,-2,17.5,-10.1,-1.1,12.7,-4.1,-9.8,6.6]\n",
    "short_term_survivor_CD274 = [-5,-3.2,-13.3,-7.6,-5.9,15.4,-4.1,-0.3,7.6,-13.8,3.4,-6.2,-2.1,0,23.2,-0.1,-8.5,9.5]\n",
    "stats.ttest_ind(long_term_survivor_CD274,short_term_survivor_CD274)"
   ]
  }
 ],
 "metadata": {
  "kernelspec": {
   "display_name": "Python 3.6",
   "language": "python",
   "name": "python36"
  },
  "language_info": {
   "codemirror_mode": {
    "name": "ipython",
    "version": 3
   },
   "file_extension": ".py",
   "mimetype": "text/x-python",
   "name": "python",
   "nbconvert_exporter": "python",
   "pygments_lexer": "ipython3",
   "version": "3.6.3"
  }
 },
 "nbformat": 4,
 "nbformat_minor": 2
}
