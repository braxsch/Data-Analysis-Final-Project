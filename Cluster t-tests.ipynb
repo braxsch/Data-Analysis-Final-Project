{
 "cells": [
  {
   "cell_type": "code",
   "execution_count": 16,
   "metadata": {},
   "outputs": [],
   "source": [
    "import plotly.plotly as py\n",
    "import plotly.graph_objs as go\n",
    "from plotly.tools import FigureFactory as FF\n",
    "import numpy as np\n",
    "import pandas as pd\n",
    "import scipy\n",
    "from scipy import stats"
   ]
  },
  {
   "cell_type": "code",
   "execution_count": 29,
   "metadata": {
    "scrolled": true
   },
   "outputs": [
    {
     "name": "stdout",
     "output_type": "stream",
     "text": [
      "[ 0.14  0.23  0.19  0.75  0.93  0.75]\n",
      "[ 1.91 -0.42 -0.39 -0.55  0.71 -0.13  0.66  1.38  0.44  1.98  0.27  1.49\n",
      "  0.19  1.61  0.83  1.58  0.54]\n"
     ]
    }
   ],
   "source": [
    "df = pd.read_csv('GBM_Expression_Data_FOR_T_TESTS.csv',delimiter=',',engine='python')\n",
    "df.columns\n",
    "f = df.Cluster==1\n",
    "T = df[f]['MT1M']\n",
    "f2 = df.Cluster==2\n",
    "T2 = df[f2]['MT1M']\n",
    "print(np.array(T))\n",
    "print(np.array(T2))"
   ]
  },
  {
   "cell_type": "markdown",
   "metadata": {},
   "source": [
    "# Determining differences in gene expression between both high-survival groups (Groups 1 and 2)"
   ]
  },
  {
   "cell_type": "code",
   "execution_count": 124,
   "metadata": {},
   "outputs": [
    {
     "data": {
      "text/plain": [
       "Ttest_indResult(statistic=-5.2521753846089938, pvalue=3.3124442559250534e-05)"
      ]
     },
     "execution_count": 124,
     "metadata": {},
     "output_type": "execute_result"
    }
   ],
   "source": [
    "cluster1_MARCH8 = [-0.35, -0.22, -1.11, -2.04, -1.13, -1.65]\n",
    "cluster2_MARCH8 = [-0.1,  -0.14, -0.14,  0.85, -0.52,  0.37,  0.56,  0.64,  0.29,  0.94,  0.58,  0.45,\n",
    " -0.23,  0.69, -0.45,  0.16, -0.07]\n",
    "stats.ttest_ind(cluster1_MARCH8,cluster2_MARCH8)"
   ]
  },
  {
   "cell_type": "code",
   "execution_count": 125,
   "metadata": {},
   "outputs": [
    {
     "data": {
      "text/plain": [
       "Ttest_indResult(statistic=-1.7819448798651394, pvalue=0.089225559317416478)"
      ]
     },
     "execution_count": 125,
     "metadata": {},
     "output_type": "execute_result"
    }
   ],
   "source": [
    "cluster1_FBXO17 = [0.56, -0.46, -2.34, -0.03, -1.03, -0.4]\n",
    "cluster2_FBXO17 = [-0.21, -0.29,  0.57,  0.93,  1.57, -0.32, -0.53,  0.19, -0.56,  1.39, -1.21, -0.76,\n",
    " -0.47,  1.01, -0.23, -0.11,  0.76]\n",
    "stats.ttest_ind(cluster1_FBXO17,cluster2_FBXO17)"
   ]
  },
  {
   "cell_type": "code",
   "execution_count": 126,
   "metadata": {},
   "outputs": [
    {
     "data": {
      "text/plain": [
       "Ttest_indResult(statistic=-2.0238452323206872, pvalue=0.0558951820521058)"
      ]
     },
     "execution_count": 126,
     "metadata": {},
     "output_type": "execute_result"
    }
   ],
   "source": [
    "cluster1_TFRC = [-0.74,  0.46, -0.42, -0.48,  0.15, -0.69]\n",
    "cluster2_TFRC = [0.52,  1.09,  0.39, -0.62,  1.35,  0.33,  2.16,  1.51, -0.84, -0.04,  1.88,  0.7,\n",
    " -0.29,  0.51,  0.26,  0.18, -0.76]\n",
    "stats.ttest_ind(cluster1_TFRC,cluster2_TFRC)"
   ]
  },
  {
   "cell_type": "code",
   "execution_count": 127,
   "metadata": {},
   "outputs": [
    {
     "data": {
      "text/plain": [
       "Ttest_indResult(statistic=-3.3128145558179685, pvalue=0.0033092843072356805)"
      ]
     },
     "execution_count": 127,
     "metadata": {},
     "output_type": "execute_result"
    }
   ],
   "source": [
    "cluster1_NSUN5 = [0.69,  0.7,   0.78,  -1.29,  0.14, -0.69]\n",
    "cluster2_NSUN5 = [0.42,  1.17,  1.3,   0.81,  0.76,  1.39,  1.93,  1.43,  1.69,  0.29,  1.01,  0.8,\n",
    "  1.48, 0.02,  0.98,  0.61,  1.22]\n",
    "stats.ttest_ind(cluster1_NSUN5,cluster2_NSUN5)"
   ]
  },
  {
   "cell_type": "code",
   "execution_count": 128,
   "metadata": {},
   "outputs": [
    {
     "data": {
      "text/plain": [
       "Ttest_indResult(statistic=-0.708730898400178, pvalue=0.48628543526325374)"
      ]
     },
     "execution_count": 128,
     "metadata": {},
     "output_type": "execute_result"
    }
   ],
   "source": [
    "cluster1_RPRM = [-0.36, -1.53, -0.43, -0.74, -1.02,  0.76]\n",
    "cluster2_RPRM = [-0.35,  0.67, -0.29,  0.54, -1.92,  0.22, -0.62, -1.46, -0.11,  0.7,   1.15, -0.25,\n",
    " -1.16, -0.67,  0.07, -1.3,   0.09]\n",
    "stats.ttest_ind(cluster1_RPRM,cluster2_RPRM)"
   ]
  },
  {
   "cell_type": "code",
   "execution_count": 129,
   "metadata": {},
   "outputs": [
    {
     "data": {
      "text/plain": [
       "Ttest_indResult(statistic=-3.1273286914055722, pvalue=0.0050917852485225243)"
      ]
     },
     "execution_count": 129,
     "metadata": {},
     "output_type": "execute_result"
    }
   ],
   "source": [
    "cluster1_HOMER1 = [-1.6,  -0.86, 0.,  -1.22, -0.84, -0.46]\n",
    "cluster2_HOMER1 = [0.65,  0.01, -0.24, -0.43,  1.,   -0.72,  1.74,  0.68, -0.19, -0.76, -0.3,   0.83,\n",
    "  2.29, -0.09,  0.,    0.58,  0.43]\n",
    "stats.ttest_ind(cluster1_HOMER1,cluster2_HOMER1)"
   ]
  },
  {
   "cell_type": "code",
   "execution_count": 130,
   "metadata": {},
   "outputs": [
    {
     "data": {
      "text/plain": [
       "Ttest_indResult(statistic=2.5488038413009373, pvalue=0.018692238768133078)"
      ]
     },
     "execution_count": 130,
     "metadata": {},
     "output_type": "execute_result"
    }
   ],
   "source": [
    "cluster1_ACOX2 = [3.07,  2.76, -0.1,   0.81,  0.44,  1.15]\n",
    "cluster2_ACOX2 = [1.13, -0.95, -0.4,  -0.91, -0.84,  0.78,  1.03, -0.65,  0.78,  0.49,  0.77,  0.68,\n",
    " -0.16,  0.81,  0.77, -0.29,  1.12]\n",
    "stats.ttest_ind(cluster1_ACOX2,cluster2_ACOX2)"
   ]
  },
  {
   "cell_type": "code",
   "execution_count": 131,
   "metadata": {},
   "outputs": [
    {
     "data": {
      "text/plain": [
       "Ttest_indResult(statistic=-0.6034929934445048, pvalue=0.55264418401260995)"
      ]
     },
     "execution_count": 131,
     "metadata": {},
     "output_type": "execute_result"
    }
   ],
   "source": [
    "cluster1_MT1M = [0.14,  0.23,  0.19,  0.75,  0.93,  0.75]\n",
    "cluster2_MT1M = [1.91, -0.42, -0.39, -0.55,  0.71, -0.13,  0.66,  1.38,  0.44,  1.98,  0.27,  1.49,\n",
    "  0.19,  1.61,  0.83,  1.58,  0.54]\n",
    "stats.ttest_ind(cluster1_MT1M,cluster2_MT1M)"
   ]
  },
  {
   "cell_type": "markdown",
   "metadata": {},
   "source": [
    "# Analysis of gene differences between Group 5 (low survival) and Group 1 (high survival)"
   ]
  },
  {
   "cell_type": "code",
   "execution_count": 132,
   "metadata": {},
   "outputs": [
    {
     "name": "stdout",
     "output_type": "stream",
     "text": [
      "[ 0.41 -0.77  0.28  0.07 -0.05 -0.14 -0.09  0.95  0.63  1.07  0.5  -0.14\n",
      "  0.09  0.44 -0.51]\n"
     ]
    }
   ],
   "source": [
    "df = pd.read_csv('GBM_Expression_Data_FOR_T_TESTS.csv',delimiter=',',engine='python')\n",
    "df.columns\n",
    "f2 = df.Cluster==5\n",
    "T2 = df[f2]['HOMER1']\n",
    "print(np.array(T2))"
   ]
  },
  {
   "cell_type": "code",
   "execution_count": 133,
   "metadata": {},
   "outputs": [
    {
     "data": {
      "text/plain": [
       "Ttest_indResult(statistic=-2.4620540892024203, pvalue=0.023546301477022257)"
      ]
     },
     "execution_count": 133,
     "metadata": {},
     "output_type": "execute_result"
    }
   ],
   "source": [
    "cluster5_MARCH8 = [0.5,   0.27,  0.33, -1.14, -0.7,   0.99, -1.67,  0.79,  0.32, -0.85, -0.95,  0.51,\n",
    "  0.49,  0.97, -1.11]\n",
    "stats.ttest_ind(cluster1_MARCH8,cluster5_MARCH8)"
   ]
  },
  {
   "cell_type": "code",
   "execution_count": 134,
   "metadata": {},
   "outputs": [
    {
     "data": {
      "text/plain": [
       "Ttest_indResult(statistic=-3.7044513672219619, pvalue=0.0015044005797727562)"
      ]
     },
     "execution_count": 134,
     "metadata": {},
     "output_type": "execute_result"
    }
   ],
   "source": [
    "cluster5_FBXO17 = [0.56,  0.41,  1.55,  0.74,  0.26,  0.5,   0.93,  2.79,  0.08,  1.78,  0.24,  0.69,\n",
    "  1.54, -0.03,  0.98]\n",
    "stats.ttest_ind(cluster1_FBXO17,cluster5_FBXO17)"
   ]
  },
  {
   "cell_type": "code",
   "execution_count": 135,
   "metadata": {},
   "outputs": [
    {
     "data": {
      "text/plain": [
       "Ttest_indResult(statistic=-2.1438328996467955, pvalue=0.045198036348819845)"
      ]
     },
     "execution_count": 135,
     "metadata": {},
     "output_type": "execute_result"
    }
   ],
   "source": [
    "cluster5_TFRC = [0.28,  0.28,  0.09,  0.27,  1.,    1.21,  1.75,  1.13,  0.15, -0.72, -0.26,  0.91,\n",
    " -0.27, -0.25,  0.02]\n",
    "stats.ttest_ind(cluster1_TFRC,cluster5_TFRC)"
   ]
  },
  {
   "cell_type": "code",
   "execution_count": 136,
   "metadata": {},
   "outputs": [
    {
     "data": {
      "text/plain": [
       "Ttest_indResult(statistic=1.4874224526689888, pvalue=0.15331158172693693)"
      ]
     },
     "execution_count": 136,
     "metadata": {},
     "output_type": "execute_result"
    }
   ],
   "source": [
    "cluster5_NSUN5 = [-0.76, -0.1,  -0.64, -0.27, -0.78, -0.52, -1.06, -0.1,  -0.2,   0.66, -0.94,  0.32,\n",
    " -0.36, -1.03, -0.03]\n",
    "stats.ttest_ind(cluster1_NSUN5,cluster5_NSUN5)"
   ]
  },
  {
   "cell_type": "code",
   "execution_count": 137,
   "metadata": {},
   "outputs": [
    {
     "data": {
      "text/plain": [
       "Ttest_indResult(statistic=-3.2356934069833314, pvalue=0.0043513566173825147)"
      ]
     },
     "execution_count": 137,
     "metadata": {},
     "output_type": "execute_result"
    }
   ],
   "source": [
    "cluster5_RPRM = [0.23,  1.3,   0.02,  0.86,  0.35,  2.32,  2.15,  1.49,  1.96, -0.63, -1.15,  1.78,\n",
    "  0.78,  1.41,  1.29]\n",
    "stats.ttest_ind(cluster1_RPRM,cluster5_RPRM)"
   ]
  },
  {
   "cell_type": "code",
   "execution_count": 138,
   "metadata": {},
   "outputs": [
    {
     "data": {
      "text/plain": [
       "Ttest_indResult(statistic=3.5753637446511268, pvalue=0.0020184420241325129)"
      ]
     },
     "execution_count": 138,
     "metadata": {},
     "output_type": "execute_result"
    }
   ],
   "source": [
    "cluster5_ACOX2 = [0.02,  1.64, -0.09, -0.62,  0.7,  -0.25, -1.01, -0.52,  0.1,  -0.72, -0.01,  0.12,\n",
    " -0.81, -0.24, -0.45]\n",
    "stats.ttest_ind(cluster1_ACOX2,cluster5_ACOX2)"
   ]
  },
  {
   "cell_type": "code",
   "execution_count": 139,
   "metadata": {},
   "outputs": [
    {
     "data": {
      "text/plain": [
       "Ttest_indResult(statistic=-4.0379098320857558, pvalue=0.00070263719378152619)"
      ]
     },
     "execution_count": 139,
     "metadata": {},
     "output_type": "execute_result"
    }
   ],
   "source": [
    "cluster5_HOMER1 = [0.41, -0.77,  0.28,  0.07, -0.05, -0.14, -0.09,  0.95,  0.63,  1.07,  0.5,  -0.14,\n",
    "  0.09,  0.44, -0.51]\n",
    "stats.ttest_ind(cluster1_HOMER1,cluster5_HOMER1)"
   ]
  },
  {
   "cell_type": "code",
   "execution_count": 141,
   "metadata": {},
   "outputs": [
    {
     "data": {
      "text/plain": [
       "Ttest_indResult(statistic=2.1242758822702736, pvalue=0.046994442958997781)"
      ]
     },
     "execution_count": 141,
     "metadata": {},
     "output_type": "execute_result"
    }
   ],
   "source": [
    "cluster5_MT1M = [-1.25, -0.1,  -0.21,  1.39, -0.95,  0.56,  0.54, -0.26,  0.74, -1.14,  0.09, -1.39,\n",
    " -1.29,  0.06,  -1.25]\n",
    "stats.ttest_ind(cluster1_MT1M,cluster5_MT1M)"
   ]
  },
  {
   "cell_type": "markdown",
   "metadata": {},
   "source": [
    "# Analysis of gene differences between Group 5 (low survival) and Group 2 (high survival)"
   ]
  },
  {
   "cell_type": "code",
   "execution_count": 70,
   "metadata": {},
   "outputs": [
    {
     "data": {
      "text/plain": [
       "Ttest_indResult(statistic=-1.278567600055166, pvalue=0.21085252273874844)"
      ]
     },
     "execution_count": 70,
     "metadata": {},
     "output_type": "execute_result"
    }
   ],
   "source": [
    "stats.ttest_ind(cluster5_MARCH8,cluster2_MARCH8)"
   ]
  },
  {
   "cell_type": "code",
   "execution_count": 71,
   "metadata": {},
   "outputs": [
    {
     "data": {
      "text/plain": [
       "Ttest_indResult(statistic=2.7667459750469154, pvalue=0.0096011632547272057)"
      ]
     },
     "execution_count": 71,
     "metadata": {},
     "output_type": "execute_result"
    }
   ],
   "source": [
    "stats.ttest_ind(cluster5_FBXO17,cluster2_FBXO17)"
   ]
  },
  {
   "cell_type": "code",
   "execution_count": 72,
   "metadata": {},
   "outputs": [
    {
     "data": {
      "text/plain": [
       "Ttest_indResult(statistic=-0.41538700758323804, pvalue=0.68081470400179844)"
      ]
     },
     "execution_count": 72,
     "metadata": {},
     "output_type": "execute_result"
    }
   ],
   "source": [
    "stats.ttest_ind(cluster5_TFRC,cluster2_TFRC)"
   ]
  },
  {
   "cell_type": "code",
   "execution_count": 73,
   "metadata": {},
   "outputs": [
    {
     "data": {
      "text/plain": [
       "Ttest_indResult(statistic=-7.8613040693275309, pvalue=8.9844061120662987e-09)"
      ]
     },
     "execution_count": 73,
     "metadata": {},
     "output_type": "execute_result"
    }
   ],
   "source": [
    "stats.ttest_ind(cluster5_NSUN5,cluster2_NSUN5)"
   ]
  },
  {
   "cell_type": "code",
   "execution_count": 74,
   "metadata": {},
   "outputs": [
    {
     "data": {
      "text/plain": [
       "Ttest_indResult(statistic=3.7175153665163605, pvalue=0.00082467476314414354)"
      ]
     },
     "execution_count": 74,
     "metadata": {},
     "output_type": "execute_result"
    }
   ],
   "source": [
    "stats.ttest_ind(cluster5_RPRM,cluster2_RPRM)"
   ]
  },
  {
   "cell_type": "code",
   "execution_count": 75,
   "metadata": {},
   "outputs": [
    {
     "data": {
      "text/plain": [
       "Ttest_indResult(statistic=-1.5192019656568556, pvalue=0.13918147512346571)"
      ]
     },
     "execution_count": 75,
     "metadata": {},
     "output_type": "execute_result"
    }
   ],
   "source": [
    "stats.ttest_ind(cluster5_ACOX2,cluster2_ACOX2)"
   ]
  },
  {
   "cell_type": "code",
   "execution_count": 76,
   "metadata": {},
   "outputs": [
    {
     "data": {
      "text/plain": [
       "Ttest_indResult(statistic=-0.56479937143935421, pvalue=0.57640958180170254)"
      ]
     },
     "execution_count": 76,
     "metadata": {},
     "output_type": "execute_result"
    }
   ],
   "source": [
    "stats.ttest_ind(cluster5_HOMER1,cluster2_HOMER1)"
   ]
  },
  {
   "cell_type": "code",
   "execution_count": 77,
   "metadata": {},
   "outputs": [
    {
     "data": {
      "text/plain": [
       "Ttest_indResult(statistic=-2.720397479953431, pvalue=0.010742868881131218)"
      ]
     },
     "execution_count": 77,
     "metadata": {},
     "output_type": "execute_result"
    }
   ],
   "source": [
    "stats.ttest_ind(cluster5_MT1M,cluster2_MT1M)"
   ]
  },
  {
   "cell_type": "markdown",
   "metadata": {},
   "source": [
    "# Analysis of gene differences between both low survival groups (Groups 3 and 5)"
   ]
  },
  {
   "cell_type": "code",
   "execution_count": 142,
   "metadata": {},
   "outputs": [
    {
     "name": "stdout",
     "output_type": "stream",
     "text": [
      "[-2.55 -0.95 -1.89 -1.07]\n"
     ]
    }
   ],
   "source": [
    "df = pd.read_csv('GBM_Expression_Data_FOR_T_TESTS.csv',delimiter=',',engine='python')\n",
    "df.columns\n",
    "f2 = df.Cluster==3\n",
    "T2 = df[f2]['TFRC']\n",
    "print(np.array(T2))"
   ]
  },
  {
   "cell_type": "code",
   "execution_count": 143,
   "metadata": {},
   "outputs": [
    {
     "data": {
      "text/plain": [
       "Ttest_indResult(statistic=-2.5790616911668018, pvalue=0.019505901255031377)"
      ]
     },
     "execution_count": 143,
     "metadata": {},
     "output_type": "execute_result"
    }
   ],
   "source": [
    "cluster3_MARCH8 = [-1.24, -1.91, -0.88, -1.08]\n",
    "stats.ttest_ind(cluster3_MARCH8,cluster5_MARCH8)"
   ]
  },
  {
   "cell_type": "code",
   "execution_count": 161,
   "metadata": {},
   "outputs": [
    {
     "data": {
      "text/plain": [
       "Ttest_indResult(statistic=0.2565311472771713, pvalue=0.8006194730716838)"
      ]
     },
     "execution_count": 161,
     "metadata": {},
     "output_type": "execute_result"
    }
   ],
   "source": [
    "cluster3_FBXO17 = [1.48,  1.97,  0.58,  0.1]\n",
    "stats.ttest_ind(cluster3_FBXO17,cluster5_FBXO17)"
   ]
  },
  {
   "cell_type": "code",
   "execution_count": 162,
   "metadata": {},
   "outputs": [
    {
     "data": {
      "text/plain": [
       "Ttest_indResult(statistic=-5.0797422266724128, pvalue=9.2770811279980012e-05)"
      ]
     },
     "execution_count": 162,
     "metadata": {},
     "output_type": "execute_result"
    }
   ],
   "source": [
    "cluster3_TFRC = [-2.55, -0.95, -1.89, -1.07]\n",
    "stats.ttest_ind(cluster3_TFRC,cluster5_TFRC)"
   ]
  },
  {
   "cell_type": "code",
   "execution_count": 163,
   "metadata": {},
   "outputs": [
    {
     "data": {
      "text/plain": [
       "Ttest_indResult(statistic=-0.1457240069835686, pvalue=0.88585320988444205)"
      ]
     },
     "execution_count": 163,
     "metadata": {},
     "output_type": "execute_result"
    }
   ],
   "source": [
    "cluster3_NSUN5 = [0.09, -0.69, -1.54,  0.4]\n",
    "stats.ttest_ind(cluster3_NSUN5,cluster5_NSUN5)"
   ]
  },
  {
   "cell_type": "code",
   "execution_count": 164,
   "metadata": {},
   "outputs": [
    {
     "data": {
      "text/plain": [
       "Ttest_indResult(statistic=-1.7017062522141428, pvalue=0.1070260985706625)"
      ]
     },
     "execution_count": 164,
     "metadata": {},
     "output_type": "execute_result"
    }
   ],
   "source": [
    "cluster3_RPRM = [-0.04,  0.39, 0.09, -0.22]\n",
    "stats.ttest_ind(cluster3_RPRM,cluster5_RPRM)"
   ]
  },
  {
   "cell_type": "code",
   "execution_count": 165,
   "metadata": {},
   "outputs": [
    {
     "data": {
      "text/plain": [
       "Ttest_indResult(statistic=-0.55824557279738096, pvalue=0.58395491957460277)"
      ]
     },
     "execution_count": 165,
     "metadata": {},
     "output_type": "execute_result"
    }
   ],
   "source": [
    "cluster3_ACOX2 = [-0.47,  0.24, -0.63, -0.49]\n",
    "stats.ttest_ind(cluster3_ACOX2,cluster5_ACOX2)"
   ]
  },
  {
   "cell_type": "code",
   "execution_count": 166,
   "metadata": {},
   "outputs": [
    {
     "data": {
      "text/plain": [
       "Ttest_indResult(statistic=-4.9464058583212251, pvalue=0.00012259987442612982)"
      ]
     },
     "execution_count": 166,
     "metadata": {},
     "output_type": "execute_result"
    }
   ],
   "source": [
    "cluster3_HOMER1 = [-1.36, -1.66, -0.86, -0.82]\n",
    "stats.ttest_ind(cluster3_HOMER1,cluster5_HOMER1)"
   ]
  },
  {
   "cell_type": "code",
   "execution_count": 167,
   "metadata": {},
   "outputs": [
    {
     "data": {
      "text/plain": [
       "Ttest_indResult(statistic=-1.9937953333708758, pvalue=0.062470844766466783)"
      ]
     },
     "execution_count": 167,
     "metadata": {},
     "output_type": "execute_result"
    }
   ],
   "source": [
    "cluster3_MT1M = [-0.94, -0.89, -1.71, -1.3]\n",
    "stats.ttest_ind(cluster3_MT1M,cluster5_MT1M)"
   ]
  },
  {
   "cell_type": "markdown",
   "metadata": {},
   "source": [
    "# Differences between Groups 1 and 3"
   ]
  },
  {
   "cell_type": "code",
   "execution_count": 168,
   "metadata": {},
   "outputs": [
    {
     "data": {
      "text/plain": [
       "Ttest_indResult(statistic=0.48160583585364403, pvalue=0.6429841046706295)"
      ]
     },
     "execution_count": 168,
     "metadata": {},
     "output_type": "execute_result"
    }
   ],
   "source": [
    "stats.ttest_ind(cluster1_MARCH8,cluster3_MARCH8)"
   ]
  },
  {
   "cell_type": "code",
   "execution_count": 169,
   "metadata": {},
   "outputs": [
    {
     "data": {
      "text/plain": [
       "Ttest_indResult(statistic=-2.5591088620130025, pvalue=0.033693657501129681)"
      ]
     },
     "execution_count": 169,
     "metadata": {},
     "output_type": "execute_result"
    }
   ],
   "source": [
    "stats.ttest_ind(cluster1_FBXO17,cluster3_FBXO17)"
   ]
  },
  {
   "cell_type": "code",
   "execution_count": 170,
   "metadata": {},
   "outputs": [
    {
     "data": {
      "text/plain": [
       "Ttest_indResult(statistic=3.4413321190032033, pvalue=0.0088065052562625468)"
      ]
     },
     "execution_count": 170,
     "metadata": {},
     "output_type": "execute_result"
    }
   ],
   "source": [
    "stats.ttest_ind(cluster1_TFRC,cluster3_TFRC)"
   ]
  },
  {
   "cell_type": "code",
   "execution_count": 171,
   "metadata": {},
   "outputs": [
    {
     "data": {
      "text/plain": [
       "Ttest_indResult(statistic=0.87836682071327343, pvalue=0.40535219500130759)"
      ]
     },
     "execution_count": 171,
     "metadata": {},
     "output_type": "execute_result"
    }
   ],
   "source": [
    "stats.ttest_ind(cluster1_NSUN5,cluster3_NSUN5)"
   ]
  },
  {
   "cell_type": "code",
   "execution_count": 172,
   "metadata": {},
   "outputs": [
    {
     "data": {
      "text/plain": [
       "Ttest_indResult(statistic=-1.4943071209417904, pvalue=0.17345209912476706)"
      ]
     },
     "execution_count": 172,
     "metadata": {},
     "output_type": "execute_result"
    }
   ],
   "source": [
    "stats.ttest_ind(cluster1_RPRM,cluster3_RPRM)"
   ]
  },
  {
   "cell_type": "code",
   "execution_count": 173,
   "metadata": {},
   "outputs": [
    {
     "data": {
      "text/plain": [
       "Ttest_indResult(statistic=2.5188899504564835, pvalue=0.035870741927893045)"
      ]
     },
     "execution_count": 173,
     "metadata": {},
     "output_type": "execute_result"
    }
   ],
   "source": [
    "stats.ttest_ind(cluster1_ACOX2,cluster3_ACOX2)"
   ]
  },
  {
   "cell_type": "code",
   "execution_count": 174,
   "metadata": {},
   "outputs": [
    {
     "data": {
      "text/plain": [
       "Ttest_indResult(statistic=1.0516034557816711, pvalue=0.32370636474538467)"
      ]
     },
     "execution_count": 174,
     "metadata": {},
     "output_type": "execute_result"
    }
   ],
   "source": [
    "stats.ttest_ind(cluster1_HOMER1,cluster3_HOMER1)"
   ]
  },
  {
   "cell_type": "code",
   "execution_count": 176,
   "metadata": {},
   "outputs": [
    {
     "data": {
      "text/plain": [
       "Ttest_indResult(statistic=7.333540317661936, pvalue=8.1215617425147969e-05)"
      ]
     },
     "execution_count": 176,
     "metadata": {},
     "output_type": "execute_result"
    }
   ],
   "source": [
    "stats.ttest_ind(cluster1_MT1M,cluster3_MT1M)"
   ]
  },
  {
   "cell_type": "markdown",
   "metadata": {},
   "source": [
    "# Comparing Group 2 to Group 3 "
   ]
  },
  {
   "cell_type": "code",
   "execution_count": 177,
   "metadata": {},
   "outputs": [
    {
     "data": {
      "text/plain": [
       "Ttest_indResult(statistic=5.9930260970842308, pvalue=9.1131790685992675e-06)"
      ]
     },
     "execution_count": 177,
     "metadata": {},
     "output_type": "execute_result"
    }
   ],
   "source": [
    "stats.ttest_ind(cluster2_MARCH8,cluster3_MARCH8)"
   ]
  },
  {
   "cell_type": "code",
   "execution_count": 178,
   "metadata": {},
   "outputs": [
    {
     "data": {
      "text/plain": [
       "Ttest_indResult(statistic=-1.9344100317067565, pvalue=0.068095701136390879)"
      ]
     },
     "execution_count": 178,
     "metadata": {},
     "output_type": "execute_result"
    }
   ],
   "source": [
    "stats.ttest_ind(cluster2_FBXO17,cluster3_FBXO17)"
   ]
  },
  {
   "cell_type": "code",
   "execution_count": 179,
   "metadata": {},
   "outputs": [
    {
     "data": {
      "text/plain": [
       "Ttest_indResult(statistic=4.3765007842009505, pvalue=0.00032461541697314573)"
      ]
     },
     "execution_count": 179,
     "metadata": {},
     "output_type": "execute_result"
    }
   ],
   "source": [
    "stats.ttest_ind(cluster2_TFRC,cluster3_TFRC)"
   ]
  },
  {
   "cell_type": "code",
   "execution_count": 180,
   "metadata": {},
   "outputs": [
    {
     "data": {
      "text/plain": [
       "Ttest_indResult(statistic=4.5000816276093518, pvalue=0.00024513910026452396)"
      ]
     },
     "execution_count": 180,
     "metadata": {},
     "output_type": "execute_result"
    }
   ],
   "source": [
    "stats.ttest_ind(cluster2_NSUN5,cluster3_NSUN5)"
   ]
  },
  {
   "cell_type": "code",
   "execution_count": 181,
   "metadata": {},
   "outputs": [
    {
     "data": {
      "text/plain": [
       "Ttest_indResult(statistic=-0.76576824523780485, pvalue=0.45322294189448931)"
      ]
     },
     "execution_count": 181,
     "metadata": {},
     "output_type": "execute_result"
    }
   ],
   "source": [
    "stats.ttest_ind(cluster2_RPRM,cluster3_RPRM)"
   ]
  },
  {
   "cell_type": "code",
   "execution_count": 182,
   "metadata": {},
   "outputs": [
    {
     "data": {
      "text/plain": [
       "Ttest_indResult(statistic=1.4496441833599216, pvalue=0.163464244719981)"
      ]
     },
     "execution_count": 182,
     "metadata": {},
     "output_type": "execute_result"
    }
   ],
   "source": [
    "stats.ttest_ind(cluster2_ACOX2,cluster3_ACOX2)"
   ]
  },
  {
   "cell_type": "code",
   "execution_count": 183,
   "metadata": {},
   "outputs": [
    {
     "data": {
      "text/plain": [
       "Ttest_indResult(statistic=3.4531885591397877, pvalue=0.002663610249517476)"
      ]
     },
     "execution_count": 183,
     "metadata": {},
     "output_type": "execute_result"
    }
   ],
   "source": [
    "stats.ttest_ind(cluster2_HOMER1,cluster3_HOMER1)"
   ]
  },
  {
   "cell_type": "code",
   "execution_count": 184,
   "metadata": {},
   "outputs": [
    {
     "data": {
      "text/plain": [
       "Ttest_indResult(statistic=4.4501909866558069, pvalue=0.00027454174704566497)"
      ]
     },
     "execution_count": 184,
     "metadata": {},
     "output_type": "execute_result"
    }
   ],
   "source": [
    "stats.ttest_ind(cluster2_MT1M,cluster3_MT1M)"
   ]
  },
  {
   "cell_type": "markdown",
   "metadata": {},
   "source": [
    "# Comparing Group 2 to Group 5"
   ]
  },
  {
   "cell_type": "code",
   "execution_count": 186,
   "metadata": {},
   "outputs": [
    {
     "data": {
      "text/plain": [
       "Ttest_indResult(statistic=1.278567600055166, pvalue=0.21085252273874844)"
      ]
     },
     "execution_count": 186,
     "metadata": {},
     "output_type": "execute_result"
    }
   ],
   "source": [
    "stats.ttest_ind(cluster2_MARCH8,cluster5_MARCH8)"
   ]
  },
  {
   "cell_type": "code",
   "execution_count": 187,
   "metadata": {},
   "outputs": [
    {
     "data": {
      "text/plain": [
       "Ttest_indResult(statistic=-2.7667459750469154, pvalue=0.0096011632547272057)"
      ]
     },
     "execution_count": 187,
     "metadata": {},
     "output_type": "execute_result"
    }
   ],
   "source": [
    "stats.ttest_ind(cluster2_FBXO17,cluster5_FBXO17)"
   ]
  },
  {
   "cell_type": "code",
   "execution_count": 188,
   "metadata": {},
   "outputs": [
    {
     "data": {
      "text/plain": [
       "Ttest_indResult(statistic=0.41538700758323804, pvalue=0.68081470400179844)"
      ]
     },
     "execution_count": 188,
     "metadata": {},
     "output_type": "execute_result"
    }
   ],
   "source": [
    "stats.ttest_ind(cluster2_TFRC,cluster5_TFRC)"
   ]
  },
  {
   "cell_type": "code",
   "execution_count": 189,
   "metadata": {},
   "outputs": [
    {
     "data": {
      "text/plain": [
       "Ttest_indResult(statistic=7.8613040693275309, pvalue=8.9844061120662987e-09)"
      ]
     },
     "execution_count": 189,
     "metadata": {},
     "output_type": "execute_result"
    }
   ],
   "source": [
    "stats.ttest_ind(cluster2_NSUN5,cluster5_NSUN5)"
   ]
  },
  {
   "cell_type": "code",
   "execution_count": 190,
   "metadata": {},
   "outputs": [
    {
     "data": {
      "text/plain": [
       "Ttest_indResult(statistic=-3.7175153665163605, pvalue=0.00082467476314414354)"
      ]
     },
     "execution_count": 190,
     "metadata": {},
     "output_type": "execute_result"
    }
   ],
   "source": [
    "stats.ttest_ind(cluster2_RPRM,cluster5_RPRM)"
   ]
  },
  {
   "cell_type": "code",
   "execution_count": 191,
   "metadata": {},
   "outputs": [
    {
     "data": {
      "text/plain": [
       "Ttest_indResult(statistic=1.5192019656568556, pvalue=0.13918147512346571)"
      ]
     },
     "execution_count": 191,
     "metadata": {},
     "output_type": "execute_result"
    }
   ],
   "source": [
    "stats.ttest_ind(cluster2_ACOX2,cluster5_ACOX2)"
   ]
  },
  {
   "cell_type": "code",
   "execution_count": 192,
   "metadata": {},
   "outputs": [
    {
     "data": {
      "text/plain": [
       "Ttest_indResult(statistic=0.56479937143935421, pvalue=0.57640958180170254)"
      ]
     },
     "execution_count": 192,
     "metadata": {},
     "output_type": "execute_result"
    }
   ],
   "source": [
    "stats.ttest_ind(cluster2_HOMER1,cluster5_HOMER1)"
   ]
  },
  {
   "cell_type": "code",
   "execution_count": 193,
   "metadata": {},
   "outputs": [
    {
     "data": {
      "text/plain": [
       "Ttest_indResult(statistic=3.3374156893377473, pvalue=0.0022667733593999132)"
      ]
     },
     "execution_count": 193,
     "metadata": {},
     "output_type": "execute_result"
    }
   ],
   "source": [
    "stats.ttest_ind(cluster2_MT1M,cluster5_MT1M)"
   ]
  },
  {
   "cell_type": "code",
   "execution_count": null,
   "metadata": {},
   "outputs": [],
   "source": []
  }
 ],
 "metadata": {
  "kernelspec": {
   "display_name": "Python 3.6",
   "language": "python",
   "name": "python36"
  },
  "language_info": {
   "codemirror_mode": {
    "name": "ipython",
    "version": 3
   },
   "file_extension": ".py",
   "mimetype": "text/x-python",
   "name": "python",
   "nbconvert_exporter": "python",
   "pygments_lexer": "ipython3",
   "version": "3.6.3"
  }
 },
 "nbformat": 4,
 "nbformat_minor": 2
}
